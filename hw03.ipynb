{
  "cells": [
    {
      "cell_type": "markdown",
      "metadata": {},
      "source": [
        "# BEE 4750 Homework 3: Uncertain Sea-Level Rise and Levee Reliability\n",
        "\n",
        "**Name**:\n",
        "\n",
        "**ID**:\n",
        "\n",
        "> **Due Date**\n",
        ">\n",
        "> Friday, 10/06/23, 9:00pm\n",
        "\n",
        "## Overview\n",
        "\n",
        "### Instructions\n",
        "\n",
        "This assignment asks you to conduct a Monte Carlo analysis of levee\n",
        "reliability in the face of uncertain changes to local sea levels. You\n",
        "will propagate uncertainty in equilibrium climate sensitivity through\n",
        "the energy balance model to obtain a distribution of temperatures, which\n",
        "will then drive a model of sea-level rise. You will finally use this\n",
        "distribution to assess the probability that a planned levee will achieve\n",
        "its desired reliability standard.\n",
        "\n",
        "### Load Environment\n",
        "\n",
        "The following code loads the environment and makes sure all needed\n",
        "packages are installed. This should be at the start of most Julia\n",
        "scripts."
      ],
      "id": "b547ffc7-2a5d-440e-917a-0ce5cfc47406"
    },
    {
      "cell_type": "code",
      "execution_count": 1,
      "metadata": {},
      "outputs": [],
      "source": [
        "import Pkg\n",
        "Pkg.activate(@__DIR__)\n",
        "Pkg.instantiate()"
      ],
      "id": "521f897e"
    },
    {
      "cell_type": "code",
      "execution_count": 2,
      "metadata": {},
      "outputs": [],
      "source": [
        "using Random\n",
        "using Plots\n",
        "using LaTeXStrings\n",
        "using Distributions\n",
        "using CSV\n",
        "using DataFrames"
      ],
      "id": "8a8dbda7"
    },
    {
      "cell_type": "markdown",
      "metadata": {},
      "source": [
        "## Problems (Total: 40 Points)"
      ],
      "id": "c98c8311-706c-4eed-b71d-e88b6d7cefaf"
    },
    {
      "cell_type": "markdown",
      "metadata": {},
      "source": [
        "### Problem 1 (12 points)\n",
        "\n",
        "Recall from class that the simple energy balance model (EBM) of\n",
        "planetary energy balance links changes in radiative forcing ($F$) to\n",
        "global mean temperature ($T$) changes through the discretized equation\n",
        "$$T_{i+1} = T_{i} + \\frac{F_i - \\lambda T_i}{cd} \\times \\Delta t,$$\n",
        "where $i$ is the current time step, $c = 4.184 \\times 10^6$\n",
        "J/K/m<sup>2</sup> is the heat capacity of water per unit area, $d$ is\n",
        "the (uncertain) depth of the mixing layer, $\\Delta t$ is the annual time\n",
        "step in seconds and $\\lambda = F_{\\text{2xCO}_2}/S$ is the climate\n",
        "feedback parameter in W/m<sup>2</sup>/$^\\circ$ C, where $S$ is the\n",
        "equilibrium climate sensitivity (the uncertain equilibrium temperature\n",
        "change resulting from a doubling of atmospheric CO<sub>2</sub>).\n",
        "Finally, while total radiative forcing can be the result of non-aerosol\n",
        "and aerosol effects, we do not know the relative intensity of aerosol\n",
        "forcing, so we represent this with an uncertain aerosol scaling factor\n",
        "$\\alpha$.\n",
        "\n",
        "We can implement this model with the following Julia function. We will\n",
        "assume an ocean mixing depth $d = 100$ m and an aerosol scaling factor\n",
        "$\\alpha = 1.3$ so we can focus on the uncertainty in $S$.\n",
        "\n",
        "The last technical concern is that “global mean temperature” does not\n",
        "make sense in absolute terms as a marker of climate change. Instead, we\n",
        "typically refer to temperature changes relative to some historical\n",
        "pre-industrial baseline. In this case, we will use the period from\n",
        "1880-1900, though this choice can vary."
      ],
      "id": "ada0e1e7-e9f5-4d00-b385-4cf9b5d45f8b"
    },
    {
      "cell_type": "code",
      "execution_count": 3,
      "metadata": {},
      "outputs": [
        {
          "output_type": "display_data",
          "metadata": {},
          "data": {
            "text/plain": [
              "energy_balance_model (generic function with 1 method)"
            ]
          }
        }
      ],
      "source": [
        "# we need to split up the aerosol and non-aerosol forcings when we call the function\n",
        "function energy_balance_model(S, forcing_aerosol, forcing_non_aerosol)\n",
        "    d = 100 # ocean mixing depth [m]\n",
        "    α = 1.3 # aerosol scaling factor\n",
        "    F2xCO₂ = 4.0 # radiative forcing [W/m²] for a doubling of CO₂\n",
        "    λ = F2xCO₂/S\n",
        "    \n",
        "    c = 4.184e6 # heat capacity/area [J/K/m²]\n",
        "    C = c*d # heat capacity of mixed layer (per area)\n",
        "\n",
        "    F = forcing_non_aerosol + α*forcing_aerosol # radiative forcing\n",
        "\n",
        "    Δt = 31558152.0 # annual timestep [s]\n",
        "    \n",
        "    T = zero(F)\n",
        "    for i in 1:length(F)-1\n",
        "        T[i+1] = T[i] + (F[i] - λ*T[i])/C * Δt\n",
        "    end\n",
        "    # return temperature anomaly relative to 1880-1900 baseline\n",
        "    return T .- mean(T[1:21]) \n",
        "end"
      ],
      "id": "9fe5572b"
    },
    {
      "cell_type": "markdown",
      "metadata": {},
      "source": [
        "Finally, we need to load some radiative forcing data. We will use the\n",
        "radiative forcing scenario RCP 8.5. We can load this data, which is in a\n",
        "`.csv` (comma-delimited) file, into a `DataFrame`, which is a tabular\n",
        "data structure. Rows and columns in a `DataFrame` can be accessed using\n",
        "their numerical index (like a matrix), but columns also have names; you\n",
        "can access a particular column in a dataframe `df` by name using\n",
        "`df.colname` or `df[:, \"colname\"]`.\n",
        "\n",
        "Of note: this data set goes from 1750–2500, so you will need to take\n",
        "care to make sure you are using the right years at each step. For\n",
        "example, here we will constrain the data to 1880–2100, which is the\n",
        "period we are interested in."
      ],
      "id": "5a3fe3cf-c1f7-40ad-a549-17dd52d7aef6"
    },
    {
      "cell_type": "code",
      "execution_count": 4,
      "metadata": {},
      "outputs": [
        {
          "output_type": "display_data",
          "metadata": {},
          "data": {
            "text/plain": [
              "221-element Vector{Float64}:\n",
              "  0.42741479112315905\n",
              "  0.4487940147601447\n",
              "  0.4900144276528058\n",
              " -0.019811270078689047\n",
              " -1.480725700367619\n",
              " -0.3154905163510021\n",
              "  0.233186559774844\n",
              "  0.2923308952663089\n",
              "  0.45833872365810924\n",
              "  0.5168189581089915\n",
              "  0.4144761329626494\n",
              "  0.2762327724171124\n",
              "  0.48656957869238376\n",
              "  ⋮\n",
              "  9.560222650653953\n",
              "  9.671039126229665\n",
              "  9.772610821460296\n",
              "  9.879065698371564\n",
              "  9.946850640754889\n",
              " 10.002169546141578\n",
              " 10.061009359425011\n",
              " 10.115684195707905\n",
              " 10.182946497594184\n",
              " 10.249699157847772\n",
              " 10.331407709334023\n",
              " 10.424544495740134"
            ]
          }
        }
      ],
      "source": [
        "# The CSV is read into a DataFrame object, and we specify that it is comma delimited\n",
        "forcings_all_85 = CSV.read(\"data/ERF_ssp585_1750-2500.csv\", DataFrame, delim=\",\")\n",
        "\n",
        "# get the years corresponding to the forcings\n",
        "t = Int64.(forcings_all_85[!,\"year\"]) # Ensure that years are interpreted as integers\n",
        "# find the indices of the years 1880 and 2100\n",
        "# we can do this with the indexin function\n",
        "time_bounds = indexin([1880, 2100], t)\n",
        "years = time_bounds[1]:time_bounds[2] # create range of years\n",
        "\n",
        "# Separate out the individual components\n",
        "forcing_co2_85 = forcings_all_85[years,\"co2\"]\n",
        "# Get total aerosol and non-aerosol forcings\n",
        "forcing_aerosol_rad_85 = forcings_all_85[years,\"aerosol-radiation_interactions\"]\n",
        "forcing_aerosol_cloud_85 = forcings_all_85[years,\"aerosol-cloud_interactions\"]\n",
        "forcing_aerosol_85 = forcing_aerosol_rad_85 + forcing_aerosol_cloud_85 # aerosol forcings\n",
        "forcing_total_85 = forcings_all_85[years,\"total\"] \n",
        "forcing_non_aerosol_85 = forcing_total_85 - forcing_aerosol_85 # non-aerosol forcings"
      ],
      "id": "d33c3836"
    },
    {
      "cell_type": "markdown",
      "metadata": {},
      "source": [
        "For this assignment, you can use the `forcing_aerosol_85` and\n",
        "`forcing_non_aerosol_85` vectors as is to correspond to the relevant\n",
        "forcings. You will need to use the vector `t` to find the appropriate\n",
        "years for analysis."
      ],
      "id": "ae7fcc44-bb77-4206-9f70-1036f47057d9"
    },
    {
      "cell_type": "markdown",
      "metadata": {},
      "source": [
        "#### Problem 1.1 (3 points)\n",
        "\n",
        "Assume that $S$ is distributed according to\n",
        "$\\text{LogNormal}(\\log(3.2), \\log{2}/3)$ (as in class). Draw 10,000\n",
        "samples from this distribution and make a histogram."
      ],
      "id": "b9719045-14ea-439c-9178-bdd41eb97ebb"
    },
    {
      "cell_type": "markdown",
      "metadata": {},
      "source": [
        "#### Problem 1.2 (5 points)\n",
        "\n",
        "Use the EBM to propagate your samples of $S$ to a distribution of global\n",
        "mean temperature. Plot the median and 90% predictive distribution\n",
        "(between the .05 and .95 quantiles) from 1880-2100."
      ],
      "id": "a43ada2c-8286-4f55-b540-4f40ef1f1182"
    },
    {
      "cell_type": "markdown",
      "metadata": {},
      "source": [
        "#### Problem 1.3 (4 points)\n",
        "\n",
        "Make a histogram of global mean temperature projections in 2100. If you\n",
        "compare this distribution to the distribution of $S$ from Problem 1.1,\n",
        "what do you observe?"
      ],
      "id": "3a2bdc4a-3208-46cd-933b-9f1405e1046d"
    },
    {
      "cell_type": "markdown",
      "metadata": {},
      "source": [
        "### Problem 2 (15 points)\n",
        "\n",
        "Changes to global temperatures cause changes in global sea levels\n",
        "through several mechanisms, including thermal expansion (the change in\n",
        "ocean volume due to increased heat content) and melting land-based ice.\n",
        "One simple way to represent this link is through the following model,\n",
        "proposed by [Rahmstorf (2007)](https://doi.org/10.1126/science.1135456).\n",
        "\n",
        "$$\\frac{dH}{dt} = a(T-T_0),$$\n",
        "\n",
        "where $H$ is the global mean sea level in mm, $T$ is global mean\n",
        "temperature, $T_0$ is an equilibrium temperature (where there is no\n",
        "change in sea levels), and $a$ is a proportionality constant. This model\n",
        "can be discretized to give $$H_{i+1} - H_i = a (T_i - T_0).$$\n",
        "\n",
        "Note that, like with global mean temperature, the notion of “global mean\n",
        "sea level” does not make sense in absolute terms (were sea levels ever\n",
        "at “zero”?). Instead, we want to normalize this relative to some\n",
        "historical baseline. In this case (with a view towards Problem 3), we\n",
        "will compute our sea levels relative to the 2010 sea level. Note that in\n",
        "addition to the model parameters, we also need an initial sea-level\n",
        "parameter $H_0$ which will give us the right anomaly level.\n",
        "\n",
        "The best estimates for these parameters are:\n",
        "\n",
        "-   $a = 1.86$;\n",
        "-   $H_0 = -223$;\n",
        "-   $T_0 = -0.62$"
      ],
      "id": "35228761-43ff-429b-9017-ceb830f60670"
    },
    {
      "cell_type": "markdown",
      "metadata": {},
      "source": [
        "#### Problem 2.1 (5 points)\n",
        "\n",
        "Write a function `sea_level_model()` to implement the mathematical\n",
        "sea-level rise model described above. It should take in needed\n",
        "parameters and a vector of temperatures and return a vector of sea\n",
        "levels. To test your function, use the provided temperature series\n",
        "`historical_temps` (read in below) to compute the global mean sea level\n",
        "anomaly in 2022 (the last year of the dataset) with the parameter values\n",
        "above; you should get a value of approximately 43mm."
      ],
      "id": "015934bf-a5d9-44a4-9c3f-690ae2c4bb30"
    },
    {
      "cell_type": "code",
      "execution_count": 5,
      "metadata": {},
      "outputs": [
        {
          "output_type": "display_data",
          "metadata": {},
          "data": {
            "text/plain": [
              "143-element Vector{Float64}:\n",
              "  0.07297116761904765\n",
              "  0.15655772761904765\n",
              "  0.09327316761904769\n",
              "  0.04232884761904765\n",
              " -0.10351681238095234\n",
              " -0.08232033238095232\n",
              " -0.03210037238095231\n",
              " -0.10998251238095236\n",
              "  0.00942435761904764\n",
              "  0.13890768761904768\n",
              " -0.11805492238095233\n",
              " -0.012511692380952344\n",
              " -0.11875525238095236\n",
              "  ⋮\n",
              "  0.9265009776190476\n",
              "  0.9664103476190478\n",
              "  1.0123786476190477\n",
              "  1.0616748976190478\n",
              "  1.2139176176190476\n",
              "  1.3217303776190477\n",
              "  1.2339774976190476\n",
              "  1.1514572476190477\n",
              "  1.2798758476190477\n",
              "  1.3115970476190477\n",
              "  1.1506591476190478\n",
              "  1.1896871476190476"
            ]
          }
        }
      ],
      "source": [
        "historical_temp_data = CSV.read(\"data/HadCRUT.5.0.1.0.analysis.summary_series.global.annual.csv\", DataFrame, delim=\",\")\n",
        "# column 2 is the temperature anomaly, column 1 is the year\n",
        "temp_bds = indexin([1880, 1900], historical_temp_data[!, 1]) # find the index of 2010 for normalization\n",
        "historical_temp_data[:, 2] .-= mean(historical_temp_data[temp_bds[1]:temp_bds[2], 2])\n",
        "historical_temps = historical_temp_data[temp_bds[1]:end, 2]"
      ],
      "id": "1a75ae46"
    },
    {
      "cell_type": "markdown",
      "metadata": {},
      "source": [
        "#### Problem 2.2 (5 points)\n",
        "\n",
        "Evaluate `sea_level_model()` using the projected temperature ensemble\n",
        "from Problem 1. Plot the 90% projection interval of the sea levels."
      ],
      "id": "c28cd451-dc28-4683-acf9-ed17aeab9738"
    },
    {
      "cell_type": "markdown",
      "metadata": {},
      "source": [
        "#### Problem 2.3 (5 points)\n",
        "\n",
        "Make a histogram of the sea-level anomaly in 2100. What can you observe\n",
        "about how the ECS uncertainty has impacted sea-level uncertainty under\n",
        "this radiative forcing scenario? What might the implications be of only\n",
        "using the best-estimate ECS value?"
      ],
      "id": "8aaa3d1e-1b55-4018-ad5f-2f2d7b4f6131"
    },
    {
      "cell_type": "markdown",
      "metadata": {},
      "source": [
        "### Problem 3 (13 points)\n",
        "\n",
        "You’ve been asked to consult on a levee reliability analysis. For\n",
        "context, levees in the United States are supposed to only fail once in\n",
        "100 years, or, in other words, to have at most a 1% chance of failure in\n",
        "a given year. We will assume for this problem that the only way in which\n",
        "a levee fails is by being overtopped (note: this is unrealistic).\n",
        "\n",
        "We can assess the probability of levee overtopping by comparing its\n",
        "height to a distribution of extreme sea levels. A common approach is to\n",
        "look at the distribution of the highest sea level each year. These\n",
        "extreme sea levels can be obtained by combining the absolute sea level\n",
        "(we will use our distribution of global sea levels for this), the rate\n",
        "of subsidence (how much the ground sinks), and the distribution of storm\n",
        "tides (the highest tide level, which is often the result of storm surges\n",
        "combining with high tide).\n",
        "\n",
        "Assume for this problem that:\n",
        "\n",
        "1.  the annual rate of subsidence $\\nu$ is 1.2mm/yr;\n",
        "2.  the distribution of annual storm tide maxima, above the mean sea\n",
        "    level, is (and is expected to continue to be) given by a\n",
        "    $\\text{GeneralizedExtremeValue}(900, 25, 0.3)$ distribution, which\n",
        "    looks like this:"
      ],
      "id": "25029538-c263-4102-afb3-e2357899cdb3"
    },
    {
      "cell_type": "code",
      "execution_count": 6,
      "metadata": {},
      "outputs": [
        {
          "output_type": "display_data",
          "metadata": {},
          "data": {
            "text/html": [
              "<img src=\"data:image/png;base64,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\" />"
            ]
          }
        }
      ],
      "source": [
        "tide_distribution = GeneralizedExtremeValue(900, 25, 0.3)\n",
        "    histogram(rand(tide_distribution, 10000), xlabel=\"Storm Tide Height (mm)\", ylabel=\"Count\", legend=:false)"
      ],
      "id": "520062a4"
    },
    {
      "cell_type": "markdown",
      "metadata": {},
      "source": [
        "Feel free to just sample from `tide_distribution` in your solution\n",
        "below."
      ],
      "id": "cfe495eb-237a-4a93-81a8-c52c83ccb125"
    },
    {
      "cell_type": "markdown",
      "metadata": {},
      "source": [
        "#### Problem 3.1 (2 points)\n",
        "\n",
        "How would you use your sea-level simulations and the above information\n",
        "to compute a distribution of extreme sea levels in 2100 relative to 2010\n",
        "mean sea level? Write down the approach in clear steps, with equations\n",
        "as needed."
      ],
      "id": "7d34dcf6-0f80-465e-8f54-287242642d15"
    },
    {
      "cell_type": "markdown",
      "metadata": {},
      "source": [
        "#### Problem 3.2 (3 points)\n",
        "\n",
        "Follow the steps above and produce a histogram of the extreme sea levels\n",
        "in 2100 relative to 2010."
      ],
      "id": "026e50c4-4acf-4f29-8494-493b622c5574"
    },
    {
      "cell_type": "markdown",
      "metadata": {},
      "source": [
        "#### Problem 3.2 (3 points)\n",
        "\n",
        "Follow the steps above and produce a histogram of the extreme sea levels\n",
        "in 2100 relative to 2010."
      ],
      "id": "4209869e-16b4-44b0-88a1-fff04f30c67a"
    },
    {
      "cell_type": "markdown",
      "metadata": {},
      "source": [
        "#### Problem 3.4 (3 points)\n",
        "\n",
        "Based on your analysis, would you recommend that the levee be heightened\n",
        "again in the future, and if so, how high? What other information might\n",
        "you need, if any, to make your recommendation?"
      ],
      "id": "01e7c4bb-67b8-4549-b537-fd71501661e2"
    },
    {
      "cell_type": "markdown",
      "metadata": {},
      "source": [
        "## References\n",
        "\n",
        "List any external references consulted, including classmates."
      ],
      "id": "71ba8e55-cc85-4c59-88db-eb4115106289"
    }
  ],
  "nbformat": 4,
  "nbformat_minor": 5,
  "metadata": {
    "kernelspec": {
      "name": "julia-1.9",
      "display_name": "Julia 1.9.3",
      "language": "julia"
    },
    "language_info": {
      "name": "julia",
      "file_extension": ".jl",
      "mimetype": "application/julia",
      "version": "1.9.3"
    }
  }
}